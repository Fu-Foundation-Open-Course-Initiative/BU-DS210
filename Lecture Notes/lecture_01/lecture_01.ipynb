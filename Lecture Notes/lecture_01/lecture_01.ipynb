{
 "cells": [
  {
   "cell_type": "markdown",
   "id": "eb562b1c",
   "metadata": {
    "cell_style": "center",
    "slideshow": {
     "slide_type": "slide"
    }
   },
   "source": [
    "# DS-210: Programming for Data Science\n",
    "\n",
    "\n",
    "# Lecture 1: Class overview. Survey. Basics of data analysis."
   ]
  },
  {
   "cell_type": "markdown",
   "id": "2b5194ec",
   "metadata": {
    "slideshow": {
     "slide_type": "slide"
    }
   },
   "source": [
    "## Teaching Staff and Office Hours\n",
    "\n",
    "### Instructor: Leonidas Kontothanassis\n",
    "* Email: kthanasi@bu.edu\n",
    "* Office hours: Mon, Wed 2:30–4:30pm @ CCDS 1641 (or adjacent common space)\n",
    "\n",
    "### TA: Dhun Jayswald\n",
    "* Email: jayswald@bu.edu\n",
    "* Office hours: TBD\n",
    "\n",
    "### TA: Harsh Khatri\n",
    "* Email: harsh242@bu.edu\n",
    "* Office hours: TBD\n",
    "\n",
    "### CA: Alicja Mahr\n",
    "* Email: bmahr@bu.edu\n",
    "* Office hours: TBD\n",
    "\n",
    "### CA: Alex Lavaee\n",
    "* Email: alavaee@bu.edu\n",
    "* Office hours: TBD\n",
    "\n",
    "### Piazza class forum\n",
    "https://piazza.com/bu/spring2023/ds210/info   \n",
    "If an access code is requested use q6ncor2o1hl\n",
    "\n",
    "### Gradescope class location\n",
    "https://www.gradescope.com/courses/486002    \n",
    "If an access code is requested use 4VYYX8\n",
    "\n",
    "### Full Syllabus\n",
    "https://docs.google.com/document/d/1K7h1ldZJo_xfii3A73XPhC0DrAZ7IsAcI_5K88aaZTg/edit?usp=sharing  \n",
    "\n",
    "### Academic Conduct Standards\n",
    "https://www.bu.edu/academics/policies/academic-conduct-code/\n"
   ]
  },
  {
   "cell_type": "markdown",
   "id": "780ee93d",
   "metadata": {
    "cell_style": "center",
    "slideshow": {
     "slide_type": "subslide"
    }
   },
   "source": [
    "## Context\n",
    "\n",
    "* New-ish course (second time for me, third time it is taught in CDS)\n",
    "* Second programming course in the data science major, after DS-110\n",
    "* Other students are welcome too!"
   ]
  },
  {
   "cell_type": "markdown",
   "id": "12a6f0ba",
   "metadata": {
    "slideshow": {
     "slide_type": "subslide"
    }
   },
   "source": [
    "## Course Content"
   ]
  },
  {
   "cell_type": "markdown",
   "id": "e6a89d83",
   "metadata": {
    "cell_style": "split",
    "slideshow": {
     "slide_type": "-"
    }
   },
   "source": [
    "### Part 1: Python for data science\n",
    "* Continuation of DS-110\n",
    "* Many topics in machine learning\n",
    "  * basic data science pipeline\n",
    "  * various algorithms: decision trees, linear regression, clustering\n",
    "* Also: various packages, software documentation\n",
    "\n"
   ]
  },
  {
   "cell_type": "markdown",
   "id": "46d4c67c",
   "metadata": {
    "cell_style": "split",
    "slideshow": {
     "slide_type": "subslide"
    }
   },
   "source": [
    "### Part 2: Rust\n",
    "* What is it? Why Rust?\n",
    "  - relatively new language\n",
    "  - as efficient as C/C++\n",
    "  - memory–safe\n",
    "* Additional concepts:\n",
    "  * Programming languages\n",
    "  * Data stuctures and algorithms\n",
    "* Some highlights:\n",
    "  * Calling Rust code from Python\n",
    "  * Basic multithreading\n",
    "* Small final project: TBD"
   ]
  },
  {
   "cell_type": "markdown",
   "id": "78c25e0a",
   "metadata": {
    "slideshow": {
     "slide_type": "slide"
    }
   },
   "source": [
    "## Prerequisites"
   ]
  },
  {
   "cell_type": "markdown",
   "id": "39da64cd",
   "metadata": {
    "cell_style": "split",
    "slideshow": {
     "slide_type": "-"
    }
   },
   "source": [
    "* **Python!!!**\n",
    "* Jupyter Notebook\n",
    "* NumPy\n",
    "* Pandas\n",
    "* Matplotlib\n",
    "\n",
    "See self study resources!"
   ]
  },
  {
   "cell_type": "markdown",
   "id": "83d7e6ab",
   "metadata": {
    "cell_style": "split",
    "slideshow": {
     "slide_type": "fragment"
    }
   },
   "source": [
    "* Big-Oh notation\n",
    "* Version Control (git)"
   ]
  },
  {
   "cell_type": "markdown",
   "id": "82cb89d2",
   "metadata": {
    "slideshow": {
     "slide_type": "subslide"
    }
   },
   "source": [
    "## Final Grade\n",
    "* Weekly homeworks (25%)\n",
    "* Midterm (20%)\n",
    "* Final (25%)\n",
    "* Graph analysis project in Rust\n",
    "  - Proposal + Final project (25%)\n",
    "* Class participation (5%)"
   ]
  },
  {
   "cell_type": "markdown",
   "id": "e658f148",
   "metadata": {
    "cell_style": "split",
    "slideshow": {
     "slide_type": "subslide"
    }
   },
   "source": [
    "## Meetings\n",
    "\n",
    "### Lectures\n",
    "* Time: Mon/Wed/Fri 12:20-1:10pm\n",
    "* Location: PHO 211\n",
    "\n",
    "### Discussion\n",
    "* Time:\n",
    "  - Group 1: Wed 1:25pm – 2:15pm @ KCB 103\n",
    "  - Group 2: Wed 2:30pm – 3:20pm @ FLR 121\n",
    "  - Group 3: Wed 3:35am – 4:25pm @ FLR 121\n",
    "\n",
    "https://www.bu.edu/phpbin/course-search/section/?t=cdsds210&semester=2023-SPRG&return=%2Fphpbin%2Fcourse-search%2Fsearch.php%3Fpage%3Dw0%26pagesize%3D10%26adv%3D1%26nolog%3D%26search_adv_all%3DCDS%2BDS%2B210%26yearsem_adv%3D2023-SPRG%26credits%3D%2A%26pathway%3D%26hub_match%3Dall%26pagesize%3D10"
   ]
  },
  {
   "cell_type": "markdown",
   "id": "4633a3f4",
   "metadata": {
    "cell_style": "split",
    "slideshow": {
     "slide_type": "fragment"
    }
   },
   "source": [
    "## Online\n",
    "\n",
    "### Piazza: https://piazza.com/bu/spring2023/ds210/home\n",
    "* Access code: q6ncor2o1hl\n",
    "* Lecture Notes\n",
    "* Announcements and additional information\n",
    "* Questions and discussions\n",
    "\n",
    "### Gradescope https://www.gradescope.com/courses/486002\n",
    "* Access code: 4VYYX8\n",
    "* Homework, project, project proposal submissions\n"
   ]
  },
  {
   "attachments": {
    "QR_code.png": {
     "image/png": "[encoded data removed]"
    }
   },
   "cell_type": "markdown",
   "id": "4b2759a9",
   "metadata": {
    "slideshow": {
     "slide_type": "slide"
    }
   },
   "source": [
    "## Quick survey\n",
    "\n",
    "* Any prerequisites you are least comfortable with?\n",
    "* What programming languages do you know? (basic/intermediate/advanced)\n",
    "* Please complete survey https://forms.gle/reTXCBaQHHwUWiKZ8\n",
    "![QR_code.png](attachment:QR_code.png)\n"
   ]
  },
  {
   "cell_type": "markdown",
   "id": "e9e0b57b",
   "metadata": {
    "cell_style": "center",
    "slideshow": {
     "slide_type": "slide"
    }
   },
   "source": [
    "## Two basic approaches"
   ]
  },
  {
   "cell_type": "markdown",
   "id": "bb23534c",
   "metadata": {
    "cell_style": "split",
    "slideshow": {
     "slide_type": "fragment"
    }
   },
   "source": [
    "  * Interactive notebooks:\n",
    "  * long tradition: Mathematica, Matlab, ...\n",
    "  * mixing code, description, visualisation\n",
    "  * Jupyter Notebook + Python can be used as a replacement of all of this\n",
    "\n",
    "* Presentations are possible: these slides use `RISE`"
   ]
  },
  {
   "cell_type": "markdown",
   "id": "24461e44",
   "metadata": {
    "cell_style": "split",
    "slideshow": {
     "slide_type": "fragment"
    }
   },
   "source": [
    "* Classical programming:\n",
    "  * write a program\n",
    "  * run it\n",
    "  * see the result"
   ]
  },
  {
   "cell_type": "markdown",
   "id": "91b68305",
   "metadata": {
    "cell_style": "center",
    "slideshow": {
     "slide_type": "subslide"
    }
   },
   "source": [
    "## Types of Data Analysis"
   ]
  },
  {
   "cell_type": "markdown",
   "id": "ec80de14",
   "metadata": {
    "cell_style": "split",
    "slideshow": {
     "slide_type": "fragment"
    }
   },
   "source": [
    "### Predictive\n",
    "* want to learn future based on the past"
   ]
  },
  {
   "cell_type": "markdown",
   "id": "d8c69c80",
   "metadata": {
    "cell_style": "split",
    "slideshow": {
     "slide_type": "fragment"
    }
   },
   "source": [
    "### Descriptive\n",
    "* understand the past"
   ]
  }
 ],
 "metadata": {
  "celltoolbar": "Slideshow",
  "kernelspec": {
   "display_name": "Python 3 (ipykernel)",
   "language": "python",
   "name": "python3"
  },
  "language_info": {
   "codemirror_mode": {
    "name": "ipython",
    "version": 3
   },
   "file_extension": ".py",
   "mimetype": "text/x-python",
   "name": "python",
   "nbconvert_exporter": "python",
   "pygments_lexer": "ipython3",
   "version": "3.8.3"
  },
  "rise": {
   "enable_chalkboard": true,
   "theme": "serif"
  }
 },
 "nbformat": 4,
 "nbformat_minor": 5
}
