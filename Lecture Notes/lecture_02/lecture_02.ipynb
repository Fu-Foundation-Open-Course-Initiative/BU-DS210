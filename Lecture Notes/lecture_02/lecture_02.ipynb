{
 "cells": [
  {
   "cell_type": "markdown",
   "id": "eb562b1c",
   "metadata": {
    "cell_style": "center",
    "slideshow": {
     "slide_type": "slide"
    }
   },
   "source": [
    "# DS-210: Programming for Data Science\n",
    "\n",
    "\n",
    "# Lecture 2: Select data science tools. Decision trees."
   ]
  },
  {
   "cell_type": "markdown",
   "id": "410402d8",
   "metadata": {
    "slideshow": {
     "slide_type": "slide"
    }
   },
   "source": [
    "## Survey outcomes"
   ]
  },
  {
   "cell_type": "markdown",
   "id": "0fa8c2e1",
   "metadata": {},
   "source": [
    "### Office hours for TAs and CAs: \n",
    "\n",
    "Harsh: Mon 11:00 am - 12:00 pm, Tue 12:30 pm - 01:30 pm  \n",
    "Dhun:  Mon 11:00 am - 12:00 pm, Tue 12:30 pm - 01:30 pm, Fri 09:00 am - 10:00 am  \n",
    "Alicja: Mon  04:00 pm - 05:00 pm, Thu 04:00 pm - 05:00 pm  \n",
    "Alex:   Mon  03:00 pm - 04:00 pm, Fri   02:00 pm - 03:00 pm  "
   ]
  },
  {
   "cell_type": "markdown",
   "id": "743ee028",
   "metadata": {
    "slideshow": {
     "slide_type": "fragment"
    }
   },
   "source": [
    "* Prerequisites:\n",
    "  * We'll try to give you as many examples as possible\n",
    "  * But you should study the self–study materials"
   ]
  },
  {
   "cell_type": "markdown",
   "id": "e358666e",
   "metadata": {
    "slideshow": {
     "slide_type": "fragment"
    }
   },
   "source": [
    "**Task for next time:**\n",
    " * Get Jupyter Notebook or JupyterLab working on your computer\n",
    " * Get comfortable using it"
   ]
  },
  {
   "cell_type": "markdown",
   "id": "c6fd3e9c",
   "metadata": {
    "cell_style": "split",
    "slideshow": {
     "slide_type": "subslide"
    }
   },
   "source": [
    "## Python \n",
    "* Assumption: Python already installed\n",
    "* If not:\n",
    "  * Either install directly\n",
    "  * Or use Miniconda/Anaconda\n",
    "* Make sure Python 3:\n",
    "```\n",
    "$ python --version\n",
    "Python 3.8.3\n",
    "```"
   ]
  },
  {
   "cell_type": "markdown",
   "id": "d461f00f",
   "metadata": {
    "cell_style": "split",
    "slideshow": {
     "slide_type": "fragment"
    }
   },
   "source": [
    "## Jupyter Notebook\n",
    "Interactive version based on iPython\n",
    "\n",
    "If not installed, can be installed via `pip` or `conda`\n",
    "```\n",
    "$ pip3 install notebook\n",
    "```\n",
    "Run it with\n",
    "```\n",
    "$ jupyter notebook\n",
    "```\n",
    "## Jupyter Lab\n",
    "Newer, will obsolete Jupyter Notebook\n",
    "```\n",
    "$ pip3 install jupyterlab \n",
    "$ jupyter-lab\n",
    "```"
   ]
  },
  {
   "cell_type": "markdown",
   "id": "a8bc1bc1",
   "metadata": {
    "slideshow": {
     "slide_type": "slide"
    }
   },
   "source": [
    "* Other important packages and information\n",
    "  * markdown (https://medium.com/analytics-vidhya/the-ultimate-markdown-guide-for-jupyter-notebook-d5e5abf728fd)\n",
    "  * pandas (https://pandas.pydata.org/pandas-docs/stable/user_guide/index.html)\n",
    "    * pip3 install pandas\n",
    "  * matplotlib (https://matplotlib.org/stable/tutorials/introductory/usage.html)\n",
    "    * pip3 install matplotlib\n",
    "  * numpy (https://numpy.org/doc/stable/user/index.html)\n",
    "    * pip3 install numpy\n",
    "  * scipy (https://scipy.github.io/devdocs/index.html)\n",
    "    * pip3 install scipy\n",
    "  * scikit-learn (https://scikit-learn.org/stable/)\n",
    "    * pip3 install sklearn"
   ]
  },
  {
   "cell_type": "markdown",
   "id": "721df95a",
   "metadata": {
    "slideshow": {
     "slide_type": "slide"
    }
   },
   "source": [
    "## CSV Files and Data input via `pandas`"
   ]
  },
  {
   "cell_type": "markdown",
   "id": "14ec7c68",
   "metadata": {
    "cell_style": "split",
    "slideshow": {
     "slide_type": "-"
    }
   },
   "source": [
    "Data often available in the CSV format:\n",
    "```\n",
    "Name,Number,PPG,YearBorn,TotalPoints\n",
    "Kareem,33,24.6,1947,38387\n",
    "Karl,32,25.0,1963,36928\n",
    "LeBron,23,27.0,1984,36381\n",
    "Kobe,24,25.0,1978,33643\n",
    "Michael,23,30.1,1963,32292\n",
    "```\n",
    "* Header line optional\n",
    "* Separators vary: \"`,`\" and \"`;`\" are popular\n",
    "* Strings with spaces or separators may be in quotes\n",
    "```\n",
    "   \"Malone, Karl\",32,25.0,1963,36928\n",
    "```"
   ]
  },
  {
   "cell_type": "markdown",
   "id": "e6701e46",
   "metadata": {
    "cell_style": "split",
    "slideshow": {
     "slide_type": "fragment"
    }
   },
   "source": [
    "Reading `.csv` or `.xlx` files is a popular task. Pandas are here to help you."
   ]
  },
  {
   "cell_type": "code",
   "execution_count": 1,
   "id": "ad41aa7c",
   "metadata": {
    "cell_style": "split",
    "scrolled": true
   },
   "outputs": [
    {
     "data": {
      "text/html": [
       "<div>\n",
       "<style scoped>\n",
       "    .dataframe tbody tr th:only-of-type {\n",
       "        vertical-align: middle;\n",
       "    }\n",
       "\n",
       "    .dataframe tbody tr th {\n",
       "        vertical-align: top;\n",
       "    }\n",
       "\n",
       "    .dataframe thead th {\n",
       "        text-align: right;\n",
       "    }\n",
       "</style>\n",
       "<table border=\"1\" class=\"dataframe\">\n",
       "  <thead>\n",
       "    <tr style=\"text-align: right;\">\n",
       "      <th></th>\n",
       "      <th>Name</th>\n",
       "      <th>Number</th>\n",
       "      <th>PPG</th>\n",
       "      <th>YearBorn</th>\n",
       "      <th>TotalPoints</th>\n",
       "    </tr>\n",
       "  </thead>\n",
       "  <tbody>\n",
       "    <tr>\n",
       "      <th>0</th>\n",
       "      <td>Kareem</td>\n",
       "      <td>33</td>\n",
       "      <td>24.6</td>\n",
       "      <td>1947</td>\n",
       "      <td>38387</td>\n",
       "    </tr>\n",
       "    <tr>\n",
       "      <th>1</th>\n",
       "      <td>Karl</td>\n",
       "      <td>32</td>\n",
       "      <td>25.0</td>\n",
       "      <td>1963</td>\n",
       "      <td>36928</td>\n",
       "    </tr>\n",
       "    <tr>\n",
       "      <th>2</th>\n",
       "      <td>LeBron</td>\n",
       "      <td>23</td>\n",
       "      <td>27.0</td>\n",
       "      <td>1984</td>\n",
       "      <td>36381</td>\n",
       "    </tr>\n",
       "    <tr>\n",
       "      <th>3</th>\n",
       "      <td>Kobe</td>\n",
       "      <td>24</td>\n",
       "      <td>25.0</td>\n",
       "      <td>1978</td>\n",
       "      <td>33643</td>\n",
       "    </tr>\n",
       "    <tr>\n",
       "      <th>4</th>\n",
       "      <td>Michael</td>\n",
       "      <td>23</td>\n",
       "      <td>30.1</td>\n",
       "      <td>1963</td>\n",
       "      <td>32292</td>\n",
       "    </tr>\n",
       "  </tbody>\n",
       "</table>\n",
       "</div>"
      ],
      "text/plain": [
       "      Name  Number   PPG  YearBorn  TotalPoints\n",
       "0   Kareem      33  24.6      1947        38387\n",
       "1     Karl      32  25.0      1963        36928\n",
       "2   LeBron      23  27.0      1984        36381\n",
       "3     Kobe      24  25.0      1978        33643\n",
       "4  Michael      23  30.1      1963        32292"
      ]
     },
     "execution_count": 1,
     "metadata": {},
     "output_type": "execute_result"
    }
   ],
   "source": [
    "import pandas as pd\n",
    "data = pd.read_csv('players.csv')\n",
    "data"
   ]
  },
  {
   "cell_type": "markdown",
   "id": "f11adda2",
   "metadata": {
    "cell_style": "split",
    "slideshow": {
     "slide_type": "fragment"
    }
   },
   "source": [
    "Access to specific cells and columns possible:"
   ]
  },
  {
   "cell_type": "code",
   "execution_count": 2,
   "id": "582dad48",
   "metadata": {
    "cell_style": "split",
    "scrolled": true,
    "slideshow": {
     "slide_type": "-"
    }
   },
   "outputs": [
    {
     "data": {
      "text/plain": [
       "1963"
      ]
     },
     "execution_count": 2,
     "metadata": {},
     "output_type": "execute_result"
    }
   ],
   "source": [
    "data['YearBorn'][1]"
   ]
  },
  {
   "cell_type": "markdown",
   "id": "d63a00dd",
   "metadata": {},
   "source": [
    "```python\n",
    "#Some key panda functionality:  \n",
    "#(Making a panda object from a list)  \n",
    "\n",
    "import numpy as np   \n",
    "import pandas as pd  \n",
    "s = pd.Series([1, 3, 5, np.nan, 6, 8])  \n",
    "s  \n",
    "\n",
    "#(Making a panda data frame from a numpy matrix with a specific row index and column name)  \n",
    "dates = pd.date_range(\"20130101\", periods=6)  \n",
    "dates  \n",
    "df = pd.DataFrame(np.random.randn(6, 4), index=dates, columns=list(\"ABCD\"))  \n",
    "df  \n",
    "\n",
    "#(Making a panda data frame form a python dictionary)  \n",
    "df2 = pd.DataFrame(  \n",
    "    {  \n",
    "        \"A\": 1.0,  \n",
    "        \"B\": pd.Timestamp(\"20130102\"),  \n",
    "        \"C\": pd.Series(1, index=list(range(4)), dtype=\"float32\"),  \n",
    "        \"D\": np.array([3] * 4, dtype=\"int32\"),  \n",
    "        \"E\": pd.Categorical([\"test\", \"train\", \"test\", \"train\"]),  \n",
    "        \"F\": \"foo\",  \n",
    "    }  \n",
    ")  \n",
    "df2  \n",
    "\n",
    "# (Determining the data types of the columns in a data frame)  \n",
    "df2.dtypes  \n",
    "\n",
    "# (Some interesting built in functions)  \n",
    "df2.head() or df2.head(2)  \n",
    "df2.tail() or df2.tail(3)  \n",
    "df.index  \n",
    "dv.columns  \n",
    "\n",
    "# (Converting to a numpy array)  \n",
    "df2.to_numpy()  \n",
    "\n",
    "# (Some interesting built in mathematical functions)  \n",
    "# Interesting numerical properties  \n",
    "df.describe()  \n",
    "# Transpose  \n",
    "df.T  \n",
    "# Sort by column or row index  \n",
    "df.sort_index(axis=1, ascending=False)  \n",
    "# sort by a column value  \n",
    "df.sort_values(by=\"B\")  \n",
    "\n",
    "# Selecting columns  \n",
    "df[\"A\"]\n",
    "# Seleting a row or rows\n",
    "df[0:3]\n",
    "but not df[0] see df.iloc[0] and df.loc[] (iloc uses indices, loc uses labels)\n",
    "\n",
    "# Easily passed into plot functions  \n",
    "import matplotlib.pyplot as plt. \n",
    "df.plot()  \n",
    "\n",
    "# And many others (some of which I admit I don't completely understand myself)\n",
    "```"
   ]
  },
  {
   "cell_type": "code",
   "execution_count": 5,
   "id": "6ca08379",
   "metadata": {},
   "outputs": [
    {
     "name": "stdout",
     "output_type": "stream",
     "text": [
      "DatetimeIndex(['2013-01-01', '2013-01-02', '2013-01-03', '2013-01-04',\n",
      "               '2013-01-05', '2013-01-06'],\n",
      "              dtype='datetime64[ns]', freq='D')\n"
     ]
    },
    {
     "data": {
      "text/html": [
       "<div>\n",
       "<style scoped>\n",
       "    .dataframe tbody tr th:only-of-type {\n",
       "        vertical-align: middle;\n",
       "    }\n",
       "\n",
       "    .dataframe tbody tr th {\n",
       "        vertical-align: top;\n",
       "    }\n",
       "\n",
       "    .dataframe thead th {\n",
       "        text-align: right;\n",
       "    }\n",
       "</style>\n",
       "<table border=\"1\" class=\"dataframe\">\n",
       "  <thead>\n",
       "    <tr style=\"text-align: right;\">\n",
       "      <th></th>\n",
       "      <th>A</th>\n",
       "      <th>B</th>\n",
       "      <th>C</th>\n",
       "      <th>D</th>\n",
       "    </tr>\n",
       "  </thead>\n",
       "  <tbody>\n",
       "    <tr>\n",
       "      <th>2013-01-01</th>\n",
       "      <td>0.351400</td>\n",
       "      <td>0.275285</td>\n",
       "      <td>-0.128006</td>\n",
       "      <td>-0.244810</td>\n",
       "    </tr>\n",
       "    <tr>\n",
       "      <th>2013-01-02</th>\n",
       "      <td>-0.089744</td>\n",
       "      <td>1.126818</td>\n",
       "      <td>-0.877956</td>\n",
       "      <td>-0.138964</td>\n",
       "    </tr>\n",
       "    <tr>\n",
       "      <th>2013-01-03</th>\n",
       "      <td>1.052686</td>\n",
       "      <td>-0.604566</td>\n",
       "      <td>1.205843</td>\n",
       "      <td>-0.598531</td>\n",
       "    </tr>\n",
       "    <tr>\n",
       "      <th>2013-01-04</th>\n",
       "      <td>-0.225413</td>\n",
       "      <td>-0.564787</td>\n",
       "      <td>0.433137</td>\n",
       "      <td>0.949039</td>\n",
       "    </tr>\n",
       "    <tr>\n",
       "      <th>2013-01-05</th>\n",
       "      <td>1.925788</td>\n",
       "      <td>0.408834</td>\n",
       "      <td>0.098908</td>\n",
       "      <td>1.103168</td>\n",
       "    </tr>\n",
       "    <tr>\n",
       "      <th>2013-01-06</th>\n",
       "      <td>-0.492499</td>\n",
       "      <td>0.765858</td>\n",
       "      <td>-0.946011</td>\n",
       "      <td>-1.080906</td>\n",
       "    </tr>\n",
       "  </tbody>\n",
       "</table>\n",
       "</div>"
      ],
      "text/plain": [
       "                   A         B         C         D\n",
       "2013-01-01  0.351400  0.275285 -0.128006 -0.244810\n",
       "2013-01-02 -0.089744  1.126818 -0.877956 -0.138964\n",
       "2013-01-03  1.052686 -0.604566  1.205843 -0.598531\n",
       "2013-01-04 -0.225413 -0.564787  0.433137  0.949039\n",
       "2013-01-05  1.925788  0.408834  0.098908  1.103168\n",
       "2013-01-06 -0.492499  0.765858 -0.946011 -1.080906"
      ]
     },
     "execution_count": 5,
     "metadata": {},
     "output_type": "execute_result"
    }
   ],
   "source": [
    "# Window to execute the sequence of the commands above for demo purposes\n",
    "import numpy as np   \n",
    "import pandas as pd  \n",
    "#(Making a panda data frame from a numpy matrix with a specific row index and column name)  \n",
    "dates = pd.date_range(\"20130101\", periods=6)  \n",
    "print(dates)  \n",
    "df = pd.DataFrame(np.random.randn(6, 4), index=dates, columns=list(\"ABCD\"))  \n",
    "df\n",
    "\n"
   ]
  },
  {
   "cell_type": "code",
   "execution_count": 6,
   "id": "8e45818f-eaff-443c-aa35-73726d0232de",
   "metadata": {},
   "outputs": [
    {
     "data": {
      "text/plain": [
       "A    float64\n",
       "B    float64\n",
       "C    float64\n",
       "D    float64\n",
       "dtype: object"
      ]
     },
     "execution_count": 6,
     "metadata": {},
     "output_type": "execute_result"
    }
   ],
   "source": [
    "df.dtypes"
   ]
  },
  {
   "cell_type": "markdown",
   "id": "35c215ec",
   "metadata": {},
   "source": [
    "Numpy basics:\n",
    "\n",
    "import numpy as np  \n",
    "arr = np.linspace(0,100, 10) \n",
    "  \n",
    "print(arr.ndim)  # (dimensions)  \n",
    "print(arr.shape) # (shape)  \n",
    "print(arr.size)  # (number of elements)  \n",
    "print(arr.dtype) # (datatype)  \n",
    "print(arr.itemsize) # itemsize (in bytes)  \n",
    "  \n",
    "\\#Creation of ndarrays  \n",
    "\n",
    "\\# array (list or tuple)  \n",
    "arr = np.array(['a', 'b', 'c', 'd'])  \n",
    "print(arr)   \n",
    "\\# zeros (fill with zeros)  \n",
    "arr = np.zeros(10)  \n",
    "print(arr)  \n",
    "\\# ones (fille with ones)  \n",
    "arr = np.ones(10)  \n",
    "print(arr)  \n",
    "\\# empty (random)  \n",
    "arr = np.empty(10)  \n",
    "print(arr)  \n",
    "\\# arange (start, end, increment)  \n",
    "arr = np.arange(0,100,10)  \n",
    "print(arr)  \n",
    "\\# linspace(start, end, numitems)  \n",
    "arr = np.linspace(0,100, 10)  \n",
    "print(arr)  \n",
    "\\# fromfunction (function, shape, datatype)  \n",
    "arr = np.fromfunction(lambda i, j: i*j, (2,2), dtype=np.float64)  \n",
    "print(arr)  \n",
    "\\# flat (not a function, just an iterator with a linear representation of the array)  \n",
    "for i in arr.flat: print(i)  \n",
    "\n",
    "\\# Manipulation of ndarrays  \n",
    "\n",
    "\\# resize (change dimensions in place)  \n",
    "arr = np.arange(0, 100, 1)  \n",
    "arr.resize(10,10)  \n",
    "print(arr)  \n",
    "\n",
    "\\# reshape (change it to have dimensions you want, must match size()  \n",
    "arr = np.arange(0, 100, 1)  \n",
    "arr2 = arr.reshape(10,10)  \n",
    "print(arr2)  \n",
    "print(arr)  \n",
    "\n",
    "\n",
    "\\# ravel (flatten it)  \n",
    "print(arr2)  \n",
    "arr = arr2.ravel()  \n",
    "print(arr2) \n",
    "\n",
    "\n",
    "\\# : (for slicing through the array)  \n",
    "arr = np.arange(0, 100, 1)  \n",
    "arr.resize(10,10)  \n",
    "print(arr)  \n",
    "print(arr[0,:])  \n",
    "print(arr[:,0])\n",
    "\n",
    "\\# T (like flat not a function, but transposes)  \n",
    "print(arr.T)  \n",
    "\n",
    "\\# copy (deep copy of the data)  \n",
    "arr = np.arange(0, 100, 10)  \n",
    "arr2 = arr.reshape(5, 2)  \n",
    "print(arr)  \n",
    "print(arr2)  \n",
    "arr[3] = 55  \n",
    "print(arr)  \n",
    "print(arr2)  \n",
    "arr2 = arr.copy()  \n",
    "arr[3] = 255  \n",
    "print(arr)  \n",
    "print(arr2)   "
   ]
  },
  {
   "cell_type": "code",
   "execution_count": 9,
   "id": "467a54f5",
   "metadata": {},
   "outputs": [
    {
     "name": "stdout",
     "output_type": "stream",
     "text": [
      "[ 0 10 20 30 40 50 60 70 80 90]\n",
      "[[ 0 10]\n",
      " [20 30]\n",
      " [40 50]\n",
      " [60 70]\n",
      " [80 90]]\n",
      "[ 0 10 20 55 40 50 60 70 80 90]\n",
      "[[ 0 10]\n",
      " [20 55]\n",
      " [40 50]\n",
      " [60 70]\n",
      " [80 90]]\n",
      "[  0  10  20 255  40  50  60  70  80  90]\n",
      "[ 0 10 20 55 40 50 60 70 80 90]\n"
     ]
    }
   ],
   "source": [
    "# Workspace for demonstrating numpy basics\n",
    "\n",
    "import numpy as np\n",
    "arr = np.arange(0, 100, 10)\n",
    "print(arr)\n",
    "arr2 = arr.reshape(5, 2)\n",
    "print(arr2)\n",
    "arr[3] = 55\n",
    "print(arr)\n",
    "print(arr2)\n",
    "arr2 = arr.copy()\n",
    "arr[3] = 255\n",
    "print(arr)\n",
    "print(arr2)"
   ]
  },
  {
   "cell_type": "markdown",
   "id": "8833892f",
   "metadata": {
    "slideshow": {
     "slide_type": "subslide"
    }
   },
   "source": [
    "## Simple visualisation via `matplotlib`"
   ]
  },
  {
   "cell_type": "code",
   "execution_count": 7,
   "id": "01e83327",
   "metadata": {
    "cell_style": "split",
    "slideshow": {
     "slide_type": "-"
    }
   },
   "outputs": [
    {
     "name": "stdout",
     "output_type": "stream",
     "text": [
      "Points per game vs. year born:\n"
     ]
    },
    {
     "ename": "NameError",
     "evalue": "name 'data' is not defined",
     "output_type": "error",
     "traceback": [
      "\u001b[0;31m---------------------------------------------------------------------------\u001b[0m",
      "\u001b[0;31mNameError\u001b[0m                                 Traceback (most recent call last)",
      "\u001b[0;32m/var/folders/zk/wg0rx4b968n669r91ch1ymv40000gn/T/ipykernel_53683/3441535026.py\u001b[0m in \u001b[0;36m<module>\u001b[0;34m\u001b[0m\n\u001b[1;32m      4\u001b[0m \u001b[0mplt\u001b[0m\u001b[0;34m.\u001b[0m\u001b[0mxlabel\u001b[0m\u001b[0;34m(\u001b[0m\u001b[0;34m'Year Born'\u001b[0m\u001b[0;34m)\u001b[0m\u001b[0;34m\u001b[0m\u001b[0;34m\u001b[0m\u001b[0m\n\u001b[1;32m      5\u001b[0m \u001b[0mplt\u001b[0m\u001b[0;34m.\u001b[0m\u001b[0mylabel\u001b[0m\u001b[0;34m(\u001b[0m\u001b[0;34m'Points per game'\u001b[0m\u001b[0;34m)\u001b[0m\u001b[0;34m\u001b[0m\u001b[0;34m\u001b[0m\u001b[0m\n\u001b[0;32m----> 6\u001b[0;31m \u001b[0mplt\u001b[0m\u001b[0;34m.\u001b[0m\u001b[0mscatter\u001b[0m\u001b[0;34m(\u001b[0m\u001b[0;34m'YearBorn'\u001b[0m\u001b[0;34m,\u001b[0m\u001b[0;34m'PPG'\u001b[0m\u001b[0;34m,\u001b[0m \u001b[0;36m2000\u001b[0m\u001b[0;34m,\u001b[0m \u001b[0;34m[\u001b[0m\u001b[0;36m12\u001b[0m\u001b[0;34m,\u001b[0m \u001b[0;36m23\u001b[0m\u001b[0;34m,\u001b[0m \u001b[0;36m32\u001b[0m\u001b[0;34m,\u001b[0m \u001b[0;36m45\u001b[0m\u001b[0;34m,\u001b[0m \u001b[0;36m55\u001b[0m\u001b[0;34m]\u001b[0m\u001b[0;34m,\u001b[0m \u001b[0mdata\u001b[0m\u001b[0;34m=\u001b[0m\u001b[0mdata\u001b[0m\u001b[0;34m)\u001b[0m\u001b[0;34m\u001b[0m\u001b[0;34m\u001b[0m\u001b[0m\n\u001b[0m\u001b[1;32m      7\u001b[0m \u001b[0;31m#fig,ax = plt.subplots(figsize=(8,8))\u001b[0m\u001b[0;34m\u001b[0m\u001b[0;34m\u001b[0m\u001b[0m\n\u001b[1;32m      8\u001b[0m \u001b[0;31m#ax.set_xlabel('Year born')\u001b[0m\u001b[0;34m\u001b[0m\u001b[0;34m\u001b[0m\u001b[0m\n",
      "\u001b[0;31mNameError\u001b[0m: name 'data' is not defined"
     ]
    },
    {
     "data": {
      "image/png": "[encoded data removed]",
      "text/plain": [
       "<Figure size 800x800 with 1 Axes>"
      ]
     },
     "metadata": {},
     "output_type": "display_data"
    }
   ],
   "source": [
    "print(\"Points per game vs. year born:\")\n",
    "import matplotlib.pyplot as plt\n",
    "plt.figure(figsize=(8,8))\n",
    "plt.xlabel('Year Born')\n",
    "plt.ylabel('Points per game')\n",
    "plt.scatter('YearBorn','PPG', 2000, [12, 23, 32, 45, 55], data=data)\n",
    "#fig,ax = plt.subplots(figsize=(8,8))\n",
    "#ax.set_xlabel('Year born')\n",
    "#ax.set_ylabel('Points per game')\n",
    "#ax.scatter('YearBorn','PPG',data=data);"
   ]
  },
  {
   "cell_type": "code",
   "execution_count": 48,
   "id": "ea135bac",
   "metadata": {
    "cell_style": "split",
    "slideshow": {
     "slide_type": "fragment"
    }
   },
   "outputs": [
    {
     "name": "stdout",
     "output_type": "stream",
     "text": [
      "Other attributes: 3rd radius, 4th color\n"
     ]
    },
    {
     "data": {
      "image/png": "[encoded data removed]",
      "text/plain": [
       "<Figure size 800x800 with 1 Axes>"
      ]
     },
     "metadata": {},
     "output_type": "display_data"
    }
   ],
   "source": [
    "import pandas as pd\n",
    "data = pd.read_csv('players.csv')\n",
    "print(\"Other attributes: 3rd radius, 4th color\")\n",
    "data['radius'] = data['YearBorn'].subtract(1945)\\\n",
    "                                 .multiply(100)\n",
    "fig,ax = plt.subplots(figsize=(8,8))\n",
    "ax.set_xlabel('Total points')\n",
    "ax.set_ylabel('Points per game')\n",
    "#ax.scatter('TotalPoints','PPG','radius',data=data);\n",
    "something_else = data\n",
    "ax.scatter('TotalPoints','PPG','radius','Number',\\\n",
    "           data=something_else);"
   ]
  },
  {
   "cell_type": "markdown",
   "id": "826cbe45",
   "metadata": {},
   "source": [
    "A great resource for visualizing data are chapters 2-5 in \"Data Analysis with Open Source Tools: A Hands-On Guide for Programmers and Data Scientists\". \n",
    "\n",
    "A very quick overview of matplotlib capabilities:  \n",
    "\n",
    "import matplotlib as mpl  \n",
    "import matplotlib.pyplot as plt  \n",
    "import numpy as np  \n",
    "fig, ax = plt.subplots()  # Create a figure containing a single axes.  \n",
    "ax.plot([1, 2, 3, 4], [1, 4, 2, 3]);  # Plot some data on the axes.  \n",
    "\n",
    "Two interfaces (OO and pyplot style).  OO first.  \n",
    "x = np.linspace(0, 2, 100)  # Sample data.  \n",
    "\\# Note that even in the OO-style, we use `.pyplot.figure` to create the Figure.  \n",
    "fig, (ax, ax1) = plt.subplots(1, 2, figsize=(5, 2.7), layout='constrained')  \n",
    "ax.plot(x, x, label='linear')  # Plot some data on the axes.  \n",
    "ax.plot(x, x\\*\\*2, label='quadratic')  # Plot more data on the axes...  \n",
    "ax.plot(x, x\\*\\*3, label='cubic')  # ... and some more.  \n",
    "ax.set_xlabel('x label')  # Add an x-label to the axes.  \n",
    "ax.set_ylabel('y label')  # Add a y-label to the axes.  \n",
    "ax.set_title(\"Simple Plot\")  # Add a title to the axes.  \n",
    "ax.legend();  # Add a legend.  \n",
    "\n",
    "\\# and more legacy option\n",
    "x = np.linspace(0, 2, 100)  # Sample data.  \n",
    "plt.figure(figsize=(5, 2.7), layout='constrained')  \n",
    "plt.plot(x, x, label='linear')  # Plot some data on the (implicit) axes.  \n",
    "plt.plot(x, x\\*\\*2, label='quadratic')  # etc.  \n",
    "plt.plot(x, x\\*\\*3, label='cubic')  \n",
    "plt.xlabel('x label')  \n",
    "plt.ylabel('y label')  \n",
    "plt.title(\"Simple Plot\")  \n",
    "plt.legend();  \n",
    "\n",
    "\\# Other important functions.\n",
    "ax.scatter() and ax.bar()"
   ]
  },
  {
   "cell_type": "code",
   "execution_count": 14,
   "id": "f72910bf",
   "metadata": {},
   "outputs": [
    {
     "data": {
      "image/png": "[encoded data removed]",
      "text/plain": [
       "<Figure size 500x270 with 2 Axes>"
      ]
     },
     "metadata": {},
     "output_type": "display_data"
    }
   ],
   "source": [
    "import matplotlib as mpl  \n",
    "import matplotlib.pyplot as plt  \n",
    "import numpy as np  \n",
    "\n",
    "x = np.linspace(0, 2, 100) # Sample data.\n",
    "# Note that even in the OO-style, we use .pyplot.figure to create the Figure.\n",
    "fig, (ax, ax1) = plt.subplots(1, 2, figsize=(5, 2.7), layout='constrained')\n",
    "ax.plot(x, x, label='linear') # Plot some data on the axes.\n",
    "ax.plot(x, x**2, label='quadratic') # Plot more data on the axes...\n",
    "ax.plot(x, x**3, label='cubic') # ... and some more.\n",
    "ax.set_xlabel('x label') # Add an x-label to the axes.\n",
    "ax.set_ylabel('y label') # Add a y-label to the axes.\n",
    "ax.set_title(\"Simple Plot\") # Add a title to the axes.\n",
    "ax.legend(); # Add a legend."
   ]
  },
  {
   "cell_type": "markdown",
   "id": "fb79208e",
   "metadata": {
    "slideshow": {
     "slide_type": "slide"
    }
   },
   "source": [
    "## Machine learning: supervised vs. unsupervised"
   ]
  },
  {
   "cell_type": "markdown",
   "id": "7427af0f",
   "metadata": {
    "cell_style": "split"
   },
   "source": [
    "### Supervised\n",
    "* Labeled data\n",
    "  - **Example 1:** images labeled with the objects: cat, dog, monkey, elephant, etc.\n",
    "  - **Example 2:** medical data labeled with likelihood of cancer\n",
    "* **Goal:** discover a relationship between attributes to predict unknown labels"
   ]
  },
  {
   "cell_type": "markdown",
   "id": "c369a86c",
   "metadata": {
    "cell_style": "split",
    "slideshow": {
     "slide_type": "fragment"
    }
   },
   "source": [
    "### Unsupervised\n",
    "* Unlabeled data\n",
    "* Want to discover a relationship between data points\n",
    "* **Examples:**\n",
    "  - *clustering*: partition your data into groups of similar objects\n",
    "  - *dimension reduction*: for high dimensional data discover important attributes\n",
    "  - generate random faces based on a sample you see "
   ]
  },
  {
   "cell_type": "markdown",
   "id": "ea2bc566",
   "metadata": {
    "slideshow": {
     "slide_type": "slide"
    }
   },
   "source": [
    "## Supervised learning: Decision trees"
   ]
  },
  {
   "cell_type": "markdown",
   "id": "1cff39e8",
   "metadata": {
    "cell_style": "split",
    "slideshow": {
     "slide_type": "-"
    }
   },
   "source": [
    "Popular machine learning tool for predictive data analysis:\n",
    "* rooted tree\n",
    "* start at the root and keep going down\n",
    "* every internal node labeled with a condition\n",
    "  - if satisfied, go left\n",
    "  - if not satisfied, go right\n",
    "* leafs labeled with predicted labels"
   ]
  },
  {
   "cell_type": "markdown",
   "id": "10408a55",
   "metadata": {
    "cell_style": "split",
    "slideshow": {
     "slide_type": "-"
    }
   },
   "source": [
    "<div align=\"center\">\n",
    "Does a player like bluegrass?\n",
    "<img alt=\"Drawing\" align=\"center\" width=\"60%\" src=\"dt.png\"/></div>"
   ]
  },
  {
   "cell_type": "markdown",
   "id": "592c3454",
   "metadata": {
    "cell_style": "center",
    "slideshow": {
     "slide_type": "fragment"
    }
   },
   "source": [
    "<div align=\"center\">\n",
    "    <b>Big challenge: finding a decision tree that matches data!</b>\n",
    "</div>"
   ]
  },
  {
   "cell_type": "markdown",
   "id": "15ae1c4e",
   "metadata": {
    "slideshow": {
     "slide_type": "slide"
    }
   },
   "source": [
    "## Reminder: Task for next time\n",
    " * Get Jupyter Notebook or JupyterLab working on your computer\n",
    " * Get comfortable using it\n",
    " * I will share my slides which are a Jupyter Notebook and a recording of this lecture\n"
   ]
  }
 ],
 "metadata": {
  "celltoolbar": "Slideshow",
  "kernelspec": {
   "display_name": "Python 3 (ipykernel)",
   "language": "python",
   "name": "python3"
  },
  "language_info": {
   "codemirror_mode": {
    "name": "ipython",
    "version": 3
   },
   "file_extension": ".py",
   "mimetype": "text/x-python",
   "name": "python",
   "nbconvert_exporter": "python",
   "pygments_lexer": "ipython3",
   "version": "3.9.13"
  },
  "rise": {
   "enable_chalkboard": true,
   "theme": "serif"
  }
 },
 "nbformat": 4,
 "nbformat_minor": 5
}
