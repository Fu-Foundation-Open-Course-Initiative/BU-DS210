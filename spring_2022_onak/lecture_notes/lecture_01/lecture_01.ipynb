{
 "cells": [
  {
   "cell_type": "markdown",
   "id": "eb562b1c",
   "metadata": {
    "cell_style": "center",
    "slideshow": {
     "slide_type": "slide"
    }
   },
   "source": [
    "# DS-210: Programming for Data Science\n",
    "\n",
    "\n",
    "# Lecture 1: Class overview. Survey. Basics of data analysis."
   ]
  },
  {
   "cell_type": "markdown",
   "id": "2b5194ec",
   "metadata": {
    "slideshow": {
     "slide_type": "slide"
    }
   },
   "source": [
    "## Teaching Staff and Office Hours\n",
    "\n",
    "### Instructor: Krzysztof Onak\n",
    "* Email: konak@bu.edu\n",
    "* Office hours: Wed 4:30–6:30pm @ MCS 138N (or adjacent common space)\n",
    "\n",
    "### TA: Vedaant Tiwari\n",
    "* Email: vedaant@bu.edu\n",
    "* Office hours: TBD (Mon/Fri) 4–6pm @ TBD\n",
    "\n"
   ]
  },
  {
   "cell_type": "markdown",
   "id": "780ee93d",
   "metadata": {
    "cell_style": "center",
    "slideshow": {
     "slide_type": "subslide"
    }
   },
   "source": [
    "## Context\n",
    "\n",
    "* New course\n",
    "* Second programming course in the data science major, after DS-110\n",
    "* Other students are welcome too!"
   ]
  },
  {
   "cell_type": "markdown",
   "id": "12a6f0ba",
   "metadata": {
    "slideshow": {
     "slide_type": "subslide"
    }
   },
   "source": [
    "## Course Content"
   ]
  },
  {
   "cell_type": "markdown",
   "id": "e6a89d83",
   "metadata": {
    "cell_style": "split",
    "slideshow": {
     "slide_type": "-"
    }
   },
   "source": [
    "### Part 1: Python for data science\n",
    "* Continuation of DS-110\n",
    "* Many topics in machine learning\n",
    "  * basic data science pipeline\n",
    "  * various algorithms: decision trees, linear regression, clustering\n",
    "* Also: various packages, software documentation\n",
    "\n"
   ]
  },
  {
   "cell_type": "markdown",
   "id": "46d4c67c",
   "metadata": {
    "cell_style": "split",
    "slideshow": {
     "slide_type": "fragment"
    }
   },
   "source": [
    "### Part 2: Rust\n",
    "* What is it? Why Rust?\n",
    "  - relatively new language\n",
    "  - as efficient as C/C++\n",
    "  - memory–safe\n",
    "* Additional concepts:\n",
    "  * Programming languages\n",
    "  * Data stuctures and algorithms\n",
    "* Some highlights:\n",
    "  * Calling Rust code from Python\n",
    "  * Basic multithreading\n",
    "* Small final project: analyze a social network"
   ]
  },
  {
   "cell_type": "markdown",
   "id": "78c25e0a",
   "metadata": {
    "slideshow": {
     "slide_type": "slide"
    }
   },
   "source": [
    "## Prerequisites"
   ]
  },
  {
   "cell_type": "markdown",
   "id": "39da64cd",
   "metadata": {
    "cell_style": "split",
    "slideshow": {
     "slide_type": "-"
    }
   },
   "source": [
    "* **Python!!!**\n",
    "* Jupyter Notebook\n",
    "* NumPy\n",
    "* Pandas\n",
    "* Matplotlib\n",
    "\n",
    "See self study resources!"
   ]
  },
  {
   "cell_type": "markdown",
   "id": "83d7e6ab",
   "metadata": {
    "cell_style": "split",
    "slideshow": {
     "slide_type": "fragment"
    }
   },
   "source": [
    "* Big-Oh notation\n",
    "* Version Control (git)"
   ]
  },
  {
   "cell_type": "markdown",
   "id": "82cb89d2",
   "metadata": {
    "slideshow": {
     "slide_type": "subslide"
    }
   },
   "source": [
    "## Final Grade\n",
    "* Weekly homeworks (25%)\n",
    "* Midterm and final (20% each)\n",
    "* Graph analysis project in Rust\n",
    "  - Proposal (5%)\n",
    "  - Final project (20%)\n",
    "* Class participation (10%)"
   ]
  },
  {
   "cell_type": "markdown",
   "id": "e658f148",
   "metadata": {
    "cell_style": "split",
    "slideshow": {
     "slide_type": "subslide"
    }
   },
   "source": [
    "## Meetings\n",
    "\n",
    "### Lectures\n",
    "* Time: Mon/Wed/Fri 12:20-1:10pm\n",
    "* Location: MCS B37\n",
    "\n",
    "### Discussion\n",
    "* Time:\n",
    "  - Group 1: Wed 2:30–3:20pm\n",
    "  - Group 2: Wed 3:35–4:25pm\n",
    "* Location: CGS 111B\n",
    "\n"
   ]
  },
  {
   "cell_type": "markdown",
   "id": "4633a3f4",
   "metadata": {
    "cell_style": "split",
    "slideshow": {
     "slide_type": "fragment"
    }
   },
   "source": [
    "## Online\n",
    "\n",
    "### Website: https://onak.pl/ds210\n",
    "* Class info, lecture slides\n",
    "* Homework\n",
    "\n",
    "### Piazza: https://piazza.com/bu/spring2022/ds210/home\n",
    "* Announcements and additional information\n",
    "* Questions and discussions\n",
    "\n",
    "### Gradescope\n",
    "* Homework, project, project proposal submissions\n"
   ]
  },
  {
   "cell_type": "markdown",
   "id": "4b2759a9",
   "metadata": {
    "slideshow": {
     "slide_type": "slide"
    }
   },
   "source": [
    "## Quick survey\n",
    "\n",
    "* Office hours: Monday or Friday? (apart from Wednesday)\n",
    "  - Weekly homeworks due Wednesday\n",
    "* Any prerequisites you are least comfortable with?\n",
    "* What programming languages do you know? (basic/intermediate/advanced)"
   ]
  },
  {
   "cell_type": "markdown",
   "id": "e9e0b57b",
   "metadata": {
    "cell_style": "center",
    "slideshow": {
     "slide_type": "slide"
    }
   },
   "source": [
    "## Two basic approaches"
   ]
  },
  {
   "cell_type": "markdown",
   "id": "bb23534c",
   "metadata": {
    "cell_style": "split",
    "slideshow": {
     "slide_type": "-"
    }
   },
   "source": [
    "* Classical programming:\n",
    "  * write a program\n",
    "  * run it\n",
    "  * see the result"
   ]
  },
  {
   "cell_type": "markdown",
   "id": "ae165c02",
   "metadata": {
    "cell_style": "split",
    "slideshow": {
     "slide_type": "fragment"
    }
   },
   "source": [
    "* Interactive notebooks:\n",
    "  * long tradition: Mathematica, Matlab, ...\n",
    "  * mixing code, description, visualisation\n",
    "  * Jupyter Notebook + Python can be used as a replacement of all of this\n",
    "\n",
    "* Presentations are possible: these slides use `RISE`"
   ]
  },
  {
   "cell_type": "markdown",
   "id": "91b68305",
   "metadata": {
    "cell_style": "center",
    "slideshow": {
     "slide_type": "subslide"
    }
   },
   "source": [
    "## Types of Data Analysis"
   ]
  },
  {
   "cell_type": "markdown",
   "id": "ec80de14",
   "metadata": {
    "cell_style": "split",
    "slideshow": {
     "slide_type": "-"
    }
   },
   "source": [
    "### Predictive\n",
    "* want to learn future based on the past"
   ]
  },
  {
   "cell_type": "markdown",
   "id": "d8c69c80",
   "metadata": {
    "cell_style": "split",
    "slideshow": {
     "slide_type": "fragment"
    }
   },
   "source": [
    "### Descriptive\n",
    "* understand the past"
   ]
  }
 ],
 "metadata": {
  "celltoolbar": "Slideshow",
  "kernelspec": {
   "display_name": "Python 3",
   "language": "python",
   "name": "python3"
  },
  "language_info": {
   "codemirror_mode": {
    "name": "ipython",
    "version": 3
   },
   "file_extension": ".py",
   "mimetype": "text/x-python",
   "name": "python",
   "nbconvert_exporter": "python",
   "pygments_lexer": "ipython3",
   "version": "3.9.9"
  },
  "rise": {
   "enable_chalkboard": true,
   "theme": "serif"
  }
 },
 "nbformat": 4,
 "nbformat_minor": 5
}
