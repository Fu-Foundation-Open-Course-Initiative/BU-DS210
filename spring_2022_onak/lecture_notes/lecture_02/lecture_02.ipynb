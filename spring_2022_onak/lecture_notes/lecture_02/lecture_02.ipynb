{
 "cells": [
  {
   "cell_type": "markdown",
   "id": "eb562b1c",
   "metadata": {
    "cell_style": "center",
    "slideshow": {
     "slide_type": "slide"
    }
   },
   "source": [
    "# DS-210: Programming for Data Science\n",
    "\n",
    "\n",
    "# Lecture 2: Select data science tools. Decision trees."
   ]
  },
  {
   "cell_type": "markdown",
   "id": "410402d8",
   "metadata": {
    "slideshow": {
     "slide_type": "slide"
    }
   },
   "source": [
    "## Survey outcomes"
   ]
  },
  {
   "cell_type": "markdown",
   "id": "0fa8c2e1",
   "metadata": {},
   "source": [
    "* Vedaant's office hours: Monday 3:45–5:45pm (**UPDATE: NOTE THE SMALL CHANGE**)"
   ]
  },
  {
   "cell_type": "markdown",
   "id": "743ee028",
   "metadata": {
    "slideshow": {
     "slide_type": "fragment"
    }
   },
   "source": [
    "* Prerequisites:\n",
    "  * We'll try to give you as many examples as possible\n",
    "  * But you should study the self–study materials"
   ]
  },
  {
   "cell_type": "markdown",
   "id": "e358666e",
   "metadata": {
    "slideshow": {
     "slide_type": "fragment"
    }
   },
   "source": [
    "**Task for next time:**\n",
    " * Get Jupyter Notebook or JupyterLab working on your computer\n",
    " * Get comfortable using it"
   ]
  },
  {
   "cell_type": "markdown",
   "id": "c6fd3e9c",
   "metadata": {
    "cell_style": "split",
    "slideshow": {
     "slide_type": "subslide"
    }
   },
   "source": [
    "## Python \n",
    "* Assumption: Python already installed\n",
    "* If not:\n",
    "  * Either install directly\n",
    "  * Or use Miniconda/Anaconda\n",
    "* Make sure Python 3:\n",
    "```\n",
    "$ python --version\n",
    "Python 3.9.9\n",
    "```"
   ]
  },
  {
   "cell_type": "markdown",
   "id": "d461f00f",
   "metadata": {
    "cell_style": "split",
    "slideshow": {
     "slide_type": "fragment"
    }
   },
   "source": [
    "## Jupyter Notebook\n",
    "Interactive version based on iPython\n",
    "\n",
    "If not installed, can be installed via `pip` or `conda`\n",
    "```\n",
    "$ pip install notebook\n",
    "```\n",
    "Run it with\n",
    "```\n",
    "$ jupyter notebook\n",
    "```\n",
    "## Jupyter Lab\n",
    "Newer, will obsolete Jupyter Notebook\n",
    "```\n",
    "$ pip install jupyterlab \n",
    "$ jupyter-lab\n",
    "```"
   ]
  },
  {
   "cell_type": "markdown",
   "id": "721df95a",
   "metadata": {
    "slideshow": {
     "slide_type": "slide"
    }
   },
   "source": [
    "## CSV Files and Data input via `pandas`"
   ]
  },
  {
   "cell_type": "markdown",
   "id": "14ec7c68",
   "metadata": {
    "cell_style": "split",
    "slideshow": {
     "slide_type": "-"
    }
   },
   "source": [
    "Data often available in the CSV format:\n",
    "```\n",
    "Name,Number,PPG,YearBorn,TotalPoints\n",
    "Kareem,33,24.6,1947,38387\n",
    "Karl,32,25.0,1963,36928\n",
    "LeBron,23,27.0,1984,36381\n",
    "Kobe,24,25.0,1978,33643\n",
    "Michael,23,30.1,1963,32292\n",
    "```\n",
    "* Header line optional\n",
    "* Separators vary: \"`,`\" and \"`;`\" are popular\n",
    "* Strings with spaces or separators may be in quotes\n",
    "```\n",
    "   \"Malone, Karl\",32,25.0,1963,36928\n",
    "```"
   ]
  },
  {
   "cell_type": "markdown",
   "id": "e6701e46",
   "metadata": {
    "cell_style": "split",
    "slideshow": {
     "slide_type": "fragment"
    }
   },
   "source": [
    "Reading `.csv` or `.xlx` files is a popular task. Pandas are here to help you."
   ]
  },
  {
   "cell_type": "code",
   "execution_count": 1,
   "id": "ad41aa7c",
   "metadata": {
    "cell_style": "split",
    "scrolled": true
   },
   "outputs": [
    {
     "data": {
      "text/html": [
       "<div>\n",
       "<style scoped>\n",
       "    .dataframe tbody tr th:only-of-type {\n",
       "        vertical-align: middle;\n",
       "    }\n",
       "\n",
       "    .dataframe tbody tr th {\n",
       "        vertical-align: top;\n",
       "    }\n",
       "\n",
       "    .dataframe thead th {\n",
       "        text-align: right;\n",
       "    }\n",
       "</style>\n",
       "<table border=\"1\" class=\"dataframe\">\n",
       "  <thead>\n",
       "    <tr style=\"text-align: right;\">\n",
       "      <th></th>\n",
       "      <th>Name</th>\n",
       "      <th>Number</th>\n",
       "      <th>PPG</th>\n",
       "      <th>YearBorn</th>\n",
       "      <th>TotalPoints</th>\n",
       "    </tr>\n",
       "  </thead>\n",
       "  <tbody>\n",
       "    <tr>\n",
       "      <th>0</th>\n",
       "      <td>Kareem</td>\n",
       "      <td>33</td>\n",
       "      <td>24.6</td>\n",
       "      <td>1947</td>\n",
       "      <td>38387</td>\n",
       "    </tr>\n",
       "    <tr>\n",
       "      <th>1</th>\n",
       "      <td>Karl</td>\n",
       "      <td>32</td>\n",
       "      <td>25.0</td>\n",
       "      <td>1963</td>\n",
       "      <td>36928</td>\n",
       "    </tr>\n",
       "    <tr>\n",
       "      <th>2</th>\n",
       "      <td>LeBron</td>\n",
       "      <td>23</td>\n",
       "      <td>27.0</td>\n",
       "      <td>1984</td>\n",
       "      <td>36381</td>\n",
       "    </tr>\n",
       "    <tr>\n",
       "      <th>3</th>\n",
       "      <td>Kobe</td>\n",
       "      <td>24</td>\n",
       "      <td>25.0</td>\n",
       "      <td>1978</td>\n",
       "      <td>33643</td>\n",
       "    </tr>\n",
       "    <tr>\n",
       "      <th>4</th>\n",
       "      <td>Michael</td>\n",
       "      <td>23</td>\n",
       "      <td>30.1</td>\n",
       "      <td>1963</td>\n",
       "      <td>32292</td>\n",
       "    </tr>\n",
       "  </tbody>\n",
       "</table>\n",
       "</div>"
      ],
      "text/plain": [
       "      Name  Number   PPG  YearBorn  TotalPoints\n",
       "0   Kareem      33  24.6      1947        38387\n",
       "1     Karl      32  25.0      1963        36928\n",
       "2   LeBron      23  27.0      1984        36381\n",
       "3     Kobe      24  25.0      1978        33643\n",
       "4  Michael      23  30.1      1963        32292"
      ]
     },
     "execution_count": 1,
     "metadata": {},
     "output_type": "execute_result"
    }
   ],
   "source": [
    "import pandas as pd\n",
    "data = pd.read_csv('players.csv')\n",
    "data"
   ]
  },
  {
   "cell_type": "markdown",
   "id": "f11adda2",
   "metadata": {
    "cell_style": "split",
    "slideshow": {
     "slide_type": "fragment"
    }
   },
   "source": [
    "Access to specific cells and columns possible:"
   ]
  },
  {
   "cell_type": "code",
   "execution_count": 2,
   "id": "582dad48",
   "metadata": {
    "cell_style": "split",
    "scrolled": true,
    "slideshow": {
     "slide_type": "-"
    }
   },
   "outputs": [
    {
     "data": {
      "text/plain": [
       "1963"
      ]
     },
     "execution_count": 2,
     "metadata": {},
     "output_type": "execute_result"
    }
   ],
   "source": [
    "data['YearBorn'][1]"
   ]
  },
  {
   "cell_type": "markdown",
   "id": "8833892f",
   "metadata": {
    "slideshow": {
     "slide_type": "subslide"
    }
   },
   "source": [
    "## Simple visualisation via `matplotlib`"
   ]
  },
  {
   "cell_type": "code",
   "execution_count": 3,
   "id": "01e83327",
   "metadata": {
    "cell_style": "split",
    "slideshow": {
     "slide_type": "-"
    }
   },
   "outputs": [
    {
     "name": "stdout",
     "output_type": "stream",
     "text": [
      "Points per game vs. year born:\n"
     ]
    },
    {
     "data": {
      "image/png": "[encoded data removed]",
      "text/plain": [
       "<Figure size 576x576 with 1 Axes>"
      ]
     },
     "metadata": {
      "needs_background": "light"
     },
     "output_type": "display_data"
    }
   ],
   "source": [
    "print(\"Points per game vs. year born:\")\n",
    "import matplotlib.pyplot as plt\n",
    "fig,ax = plt.subplots(figsize=(8,8))\n",
    "ax.set_xlabel('Year born')\n",
    "ax.set_ylabel('Points per game')\n",
    "ax.scatter('YearBorn','PPG',data=data);"
   ]
  },
  {
   "cell_type": "code",
   "execution_count": 4,
   "id": "ea135bac",
   "metadata": {
    "cell_style": "split",
    "slideshow": {
     "slide_type": "fragment"
    }
   },
   "outputs": [
    {
     "name": "stdout",
     "output_type": "stream",
     "text": [
      "Other attributes: 3rd radius, 4th color\n"
     ]
    },
    {
     "data": {
      "image/png": "[encoded data removed]",
      "text/plain": [
       "<Figure size 576x576 with 1 Axes>"
      ]
     },
     "metadata": {
      "needs_background": "light"
     },
     "output_type": "display_data"
    }
   ],
   "source": [
    "print(\"Other attributes: 3rd radius, 4th color\")\n",
    "data['radius'] = data['YearBorn'].subtract(1945)\\\n",
    "                                 .multiply(100)\n",
    "fig,ax = plt.subplots(figsize=(8,8))\n",
    "ax.set_xlabel('Total points')\n",
    "ax.set_ylabel('Points per game')\n",
    "#ax.scatter('TotalPoints','PPG','radius',data=data);\n",
    "something_else = data\n",
    "ax.scatter('TotalPoints','PPG','radius','Number',\\\n",
    "           data=something_else);"
   ]
  },
  {
   "cell_type": "markdown",
   "id": "fb79208e",
   "metadata": {
    "slideshow": {
     "slide_type": "slide"
    }
   },
   "source": [
    "## Machine learning: supervised vs. unsupervised"
   ]
  },
  {
   "cell_type": "markdown",
   "id": "7427af0f",
   "metadata": {
    "cell_style": "split"
   },
   "source": [
    "### Supervised\n",
    "* Labeled data\n",
    "  - **Example 1:** images labeled with the objects: cat, dog, monkey, elephant, etc.\n",
    "  - **Example 2:** medical data labeled with likelihood of cancer\n",
    "* **Goal:** discover a relationship between attributes to predict unknown labels"
   ]
  },
  {
   "cell_type": "markdown",
   "id": "c369a86c",
   "metadata": {
    "cell_style": "split",
    "slideshow": {
     "slide_type": "fragment"
    }
   },
   "source": [
    "### Unsupervised\n",
    "* Unlabeled data\n",
    "* Want to discover a relationship between data points\n",
    "* **Examples:**\n",
    "  - *clustering*: partition your data into groups of similar objects\n",
    "  - *dimension reduction*: for high dimensional data discover important attributes\n",
    "  - generate random faces based on a sample you see "
   ]
  },
  {
   "cell_type": "markdown",
   "id": "ea2bc566",
   "metadata": {
    "slideshow": {
     "slide_type": "slide"
    }
   },
   "source": [
    "## Supervised learning: Decision trees"
   ]
  },
  {
   "cell_type": "markdown",
   "id": "1cff39e8",
   "metadata": {
    "cell_style": "split",
    "slideshow": {
     "slide_type": "-"
    }
   },
   "source": [
    "Popular machine learning tool for predictive data analysis:\n",
    "* rooted tree\n",
    "* start at the root and keep going down\n",
    "* every internal node labeled with a condition\n",
    "  - if satisfied, go left\n",
    "  - if not satisfied, go right\n",
    "* leafs labeled with predicted labels"
   ]
  },
  {
   "cell_type": "markdown",
   "id": "10408a55",
   "metadata": {
    "cell_style": "split",
    "slideshow": {
     "slide_type": "-"
    }
   },
   "source": [
    "<div align=\"center\">\n",
    "Does a player like bluegrass?\n",
    "<img alt=\"Drawing\" align=\"center\" width=\"60%\" src=\"dt.png\"/></div>"
   ]
  },
  {
   "cell_type": "markdown",
   "id": "592c3454",
   "metadata": {
    "cell_style": "center",
    "slideshow": {
     "slide_type": "fragment"
    }
   },
   "source": [
    "<div align=\"center\">\n",
    "    <b>Big challenge: finding a decision tree that matches data!</b>\n",
    "</div>"
   ]
  },
  {
   "cell_type": "markdown",
   "id": "15ae1c4e",
   "metadata": {
    "slideshow": {
     "slide_type": "slide"
    }
   },
   "source": [
    "## Reminder: Task for next time\n",
    " * Get Jupyter Notebook or JupyterLab working on your computer\n",
    " * Get comfortable using it\n",
    " * I will share my slides which are a Jupyter Notebook and a recording of this lecture\n"
   ]
  }
 ],
 "metadata": {
  "celltoolbar": "Slideshow",
  "kernelspec": {
   "display_name": "Python 3",
   "language": "python",
   "name": "python3"
  },
  "language_info": {
   "codemirror_mode": {
    "name": "ipython",
    "version": 3
   },
   "file_extension": ".py",
   "mimetype": "text/x-python",
   "name": "python",
   "nbconvert_exporter": "python",
   "pygments_lexer": "ipython3",
   "version": "3.9.9"
  },
  "rise": {
   "enable_chalkboard": true,
   "theme": "serif"
  }
 },
 "nbformat": 4,
 "nbformat_minor": 5
}
