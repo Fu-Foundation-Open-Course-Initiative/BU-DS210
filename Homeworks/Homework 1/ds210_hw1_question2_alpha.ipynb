{
 "cells": [
  {
   "cell_type": "markdown",
   "metadata": {
    "id": "iednkqX753DC"
   },
   "source": [
    "# DS 210 Homework 1 Question 2\n",
    "\n",
    "Execute a simple data pipeline that involves the following steps:\n",
    "1. Basic data validation (i.e., make sure no relevant attributes are missing) and—if needed—data cleansing.\n",
    "2. Partitioning the data set into a training and test set.\n",
    "3. Selection of the set of features that will be used in the learning process.\n",
    "4. Training a decision tree.\n",
    "5. Estimation of the quality of predictions by the final decision tree.\n",
    "\n",
    "Execute this pipeline for different target decision tree sizes and different sizes of the set of features used for learning and prediction.\n",
    "- For the former, you can try various numbers of nodes that are multiples of 5.\n",
    "- For the latter, you can select 3, 6, 9, etc. that you believe should be most important for what you are trying to predict.\n",
    "\n",
    "Compare the outcomes and plot a graph that displays the prediction accuracy.\n",
    "\n",
    "We can use this dataset: https://archive.ics.uci.edu/ml/datasets/Student+Performance"
   ]
  },
  {
   "cell_type": "code",
   "execution_count": 1,
   "metadata": {
    "colab": {
     "base_uri": "https://localhost:8080/",
     "height": 305
    },
    "id": "jyk5olp65ypg",
    "outputId": "407dc67b-6e3a-42e4-df5d-0db3e22aec51"
   },
   "outputs": [],
   "source": [
    "# Import libraries\n",
    "\n",
    "import pandas as pd\n",
    "import numpy as np\n",
    "import matplotlib.pyplot as plt\n",
    "from sklearn.model_selection import train_test_split\n",
    "from sklearn.tree import DecisionTreeClassifier\n",
    "from sklearn.metrics import accuracy_score"
   ]
  },
  {
   "cell_type": "code",
   "execution_count": 2,
   "metadata": {
    "id": "ZucXJTN47tVQ"
   },
   "outputs": [
    {
     "ename": "ModuleNotFoundError",
     "evalue": "No module named 'google'",
     "output_type": "error",
     "traceback": [
      "\u001b[0;31m---------------------------------------------------------------------------\u001b[0m",
      "\u001b[0;31mModuleNotFoundError\u001b[0m                       Traceback (most recent call last)",
      "\u001b[0;32m/var/folders/zk/wg0rx4b968n669r91ch1ymv40000gn/T/ipykernel_32005/2080899496.py\u001b[0m in \u001b[0;36m<module>\u001b[0;34m\u001b[0m\n\u001b[1;32m      1\u001b[0m \u001b[0;31m# Files uplaod\u001b[0m\u001b[0;34m\u001b[0m\u001b[0;34m\u001b[0m\u001b[0m\n\u001b[1;32m      2\u001b[0m \u001b[0;34m\u001b[0m\u001b[0m\n\u001b[0;32m----> 3\u001b[0;31m \u001b[0;32mfrom\u001b[0m \u001b[0mgoogle\u001b[0m\u001b[0;34m.\u001b[0m\u001b[0mcolab\u001b[0m \u001b[0;32mimport\u001b[0m \u001b[0mfiles\u001b[0m\u001b[0;34m\u001b[0m\u001b[0;34m\u001b[0m\u001b[0m\n\u001b[0m\u001b[1;32m      4\u001b[0m \u001b[0mfiles\u001b[0m\u001b[0;34m.\u001b[0m\u001b[0mupload\u001b[0m\u001b[0;34m(\u001b[0m\u001b[0;34m)\u001b[0m\u001b[0;34m\u001b[0m\u001b[0;34m\u001b[0m\u001b[0m\n\u001b[1;32m      5\u001b[0m \u001b[0;34m\u001b[0m\u001b[0m\n",
      "\u001b[0;31mModuleNotFoundError\u001b[0m: No module named 'google'"
     ]
    }
   ],
   "source": [
    "# Files uplaod\n",
    "\n",
    "from google.colab import files\n",
    "files.upload()\n",
    "\n",
    "# Read the data\n",
    "# Choose the student-mat.csv since Math is obviouosly a better subject compared to Portuguese\n",
    "\n",
    "data = pd.read_csv('student-mat.csv', sep=';')"
   ]
  },
  {
   "cell_type": "code",
   "execution_count": null,
   "metadata": {
    "id": "I9zlh3s88J5W"
   },
   "outputs": [],
   "source": [
    "# Overview of the dataset\n",
    "\n",
    "data.head"
   ]
  },
  {
   "cell_type": "code",
   "execution_count": null,
   "metadata": {
    "colab": {
     "base_uri": "https://localhost:8080/"
    },
    "id": "80_VQl_HJPGn",
    "outputId": "19abdf17-f661-464c-ead7-107b8cb0b5b2"
   },
   "outputs": [
    {
     "data": {
      "text/plain": [
       "school        object\n",
       "sex           object\n",
       "age            int64\n",
       "address       object\n",
       "famsize       object\n",
       "Pstatus       object\n",
       "Medu           int64\n",
       "Fedu           int64\n",
       "Mjob          object\n",
       "Fjob          object\n",
       "reason        object\n",
       "guardian      object\n",
       "traveltime     int64\n",
       "studytime      int64\n",
       "failures       int64\n",
       "schoolsup     object\n",
       "famsup        object\n",
       "paid          object\n",
       "activities    object\n",
       "nursery       object\n",
       "higher        object\n",
       "internet      object\n",
       "romantic      object\n",
       "famrel         int64\n",
       "freetime       int64\n",
       "goout          int64\n",
       "Dalc           int64\n",
       "Walc           int64\n",
       "health         int64\n",
       "absences       int64\n",
       "G1             int64\n",
       "G2             int64\n",
       "G3             int64\n",
       "dtype: object"
      ]
     },
     "execution_count": 13,
     "metadata": {},
     "output_type": "execute_result"
    }
   ],
   "source": [
    "# Check the features' data types\n",
    "\n",
    "data.dtypes"
   ]
  },
  {
   "cell_type": "code",
   "execution_count": null,
   "metadata": {
    "id": "D0waWJnT-z0H"
   },
   "outputs": [],
   "source": [
    "# Features selection\n",
    "# Create a list of all the features in the dataset\n",
    "\n",
    "features = list(data.columns)\n",
    "\n",
    "# Drop the G1 and G2 columns and recreate the list\n",
    "features.remove('G1')\n",
    "features.remove('G2')"
   ]
  },
  {
   "cell_type": "code",
   "execution_count": null,
   "metadata": {
    "id": "mYDcRkyo6aCt"
   },
   "outputs": [],
   "source": [
    "data.head"
   ]
  },
  {
   "cell_type": "code",
   "execution_count": null,
   "metadata": {
    "id": "2hqNiBjs6Fex"
   },
   "outputs": [],
   "source": [
    "\n",
    "\n",
    "# Check for missing values\n",
    "\n",
    "data.isnull().sum()"
   ]
  },
  {
   "cell_type": "code",
   "execution_count": null,
   "metadata": {
    "id": "M5jDLNinHdGc"
   },
   "outputs": [],
   "source": [
    "# Conversion of the Data Types: String to Float\n",
    "\n",
    "\n",
    "\n"
   ]
  },
  {
   "cell_type": "code",
   "execution_count": null,
   "metadata": {
    "id": "xvssZm0h8yIG"
   },
   "outputs": [],
   "source": [
    "# Split the data into training and test sets\n",
    "\n",
    "train, test = train_test_split(data, test_size=0.2)"
   ]
  },
  {
   "cell_type": "code",
   "execution_count": null,
   "metadata": {
    "id": "gRGvXwl3-1B5"
   },
   "outputs": [],
   "source": [
    "# Train the model\n",
    "X_train = train[features]\n",
    "y_train = train['G3']\n",
    "X_test = test[features]\n",
    "y_test = test['G3']"
   ]
  },
  {
   "cell_type": "code",
   "execution_count": null,
   "metadata": {
    "id": "2C8lcCUPd171"
   },
   "outputs": [],
   "source": []
  },
  {
   "cell_type": "code",
   "execution_count": null,
   "metadata": {
    "id": "DSYWJagO-3Il"
   },
   "outputs": [],
   "source": [
    "# Decision tree\n",
    "clf = DecisionTreeClassifier()\n",
    "clf.fit(X_train, y_train)"
   ]
  },
  {
   "cell_type": "code",
   "execution_count": null,
   "metadata": {
    "id": "kUXYU96N-49q"
   },
   "outputs": [],
   "source": [
    "# Prediction\n",
    "y_pred = clf.predict(X_test)"
   ]
  },
  {
   "cell_type": "code",
   "execution_count": null,
   "metadata": {
    "id": "P7jGP1RS-6Qs"
   },
   "outputs": [],
   "source": [
    "# Accuracy\n",
    "print(\"Accuracy is \", accuracy_score(y_test, y_pred)*100)"
   ]
  }
 ],
 "metadata": {
  "colab": {
   "provenance": []
  },
  "kernelspec": {
   "display_name": "Python 3 (ipykernel)",
   "language": "python",
   "name": "python3"
  },
  "language_info": {
   "codemirror_mode": {
    "name": "ipython",
    "version": 3
   },
   "file_extension": ".py",
   "mimetype": "text/x-python",
   "name": "python",
   "nbconvert_exporter": "python",
   "pygments_lexer": "ipython3",
   "version": "3.9.13"
  }
 },
 "nbformat": 4,
 "nbformat_minor": 1
}
