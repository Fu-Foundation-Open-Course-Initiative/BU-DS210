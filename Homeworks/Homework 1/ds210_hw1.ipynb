{
 "cells": [
  {
   "cell_type": "markdown",
   "id": "55083571",
   "metadata": {},
   "source": [
    "# Question 1: Create a Markdown Section"
   ]
  },
  {
   "attachments": {},
   "cell_type": "markdown",
   "id": "a302e623",
   "metadata": {},
   "source": [
    "# Title\n",
    "\n",
    "## Section 1: Different Fonts\n",
    "\n",
    "Regular **Bold** _Italic_\n",
    "\n",
    "## Section 2: Enumeration\n",
    "\n",
    "- First bullet\n",
    "- Second bullet\n",
    "    1. A\n",
    "    2. B\n",
    "- Third bullet\n",
    "    - Sub-bullet\n",
    "    - Sub-bullet\n",
    " \n",
    "## Section 3: Code\n",
    "\n",
    "This is inline code: `x*x for x in X`, and this is a block of code (note the syntax hightling!)\n",
    "\n",
    "```\n",
    "#comment\n",
    "\n",
    "def foo(x, y, z):\n",
    "    return x + 10 * y + 100 *z\n",
    "    \n",
    "```\n",
    "\n"
   ]
  },
  {
   "cell_type": "markdown",
   "id": "23a53543",
   "metadata": {},
   "source": [
    "# Question 2: Data pipeline\n",
    "\n",
    "This should involves the following things:\n",
    "\n",
    "- Basic data validation\n",
    "- Partitioning the data set into a training and test set\n",
    "- Selection of the set of features that will be used in the learning process\n",
    "- Training the decision tree\n",
    "- Estimation of the quality of predictions by the final decision tree\n",
    "\n"
   ]
  }
 ],
 "metadata": {
  "kernelspec": {
   "display_name": "Python 3",
   "language": "python",
   "name": "python3"
  },
  "language_info": {
   "codemirror_mode": {
    "name": "ipython",
    "version": 3
   },
   "file_extension": ".py",
   "mimetype": "text/x-python",
   "name": "python",
   "nbconvert_exporter": "python",
   "pygments_lexer": "ipython3",
   "version": "3.9.6 (default, Oct 18 2022, 12:41:40) \n[Clang 14.0.0 (clang-1400.0.29.202)]"
  },
  "vscode": {
   "interpreter": {
    "hash": "31f2aee4e71d21fbe5cf8b01ff0e069b9275f58929596ceb00d14d90e3e16cd6"
   }
  }
 },
 "nbformat": 4,
 "nbformat_minor": 5
}
